{
 "cells": [
  {
   "cell_type": "code",
   "execution_count": 17,
   "metadata": {},
   "outputs": [
    {
     "data": {
      "text/plain": [
       "'\\n검색어가 없습니다.\\n'"
      ]
     },
     "execution_count": 17,
     "metadata": {},
     "output_type": "execute_result"
    }
   ],
   "source": [
    "import requests\n",
    "from bs4 import BeautifulSoup\n",
    "\n",
    "url = 'https://www.mega-mgccoffee.com/store/find/'\n",
    "\n",
    "res = requests.get(url)\n",
    "res\n",
    "\n",
    "soup = BeautifulSoup(res.text, 'html.parser')\n",
    "soup\n",
    "\n",
    "#store_area_search_list_result > li:nth-child(2)\n",
    "#store_search_list > li:nth-child(1) > a > div > div.cont_text_inner.cont_text_info\n",
    "test = soup.select('#store_search_list')\n",
    "test[0].text"
   ]
  }
 ],
 "metadata": {
  "kernelspec": {
   "display_name": "django",
   "language": "python",
   "name": "python3"
  },
  "language_info": {
   "codemirror_mode": {
    "name": "ipython",
    "version": 3
   },
   "file_extension": ".py",
   "mimetype": "text/x-python",
   "name": "python",
   "nbconvert_exporter": "python",
   "pygments_lexer": "ipython3",
   "version": "3.11.10"
  }
 },
 "nbformat": 4,
 "nbformat_minor": 2
}
