{
 "cells": [
  {
   "cell_type": "code",
   "execution_count": 1,
   "metadata": {},
   "outputs": [],
   "source": [
    "import re"
   ]
  },
  {
   "cell_type": "code",
   "execution_count": 20,
   "metadata": {},
   "outputs": [],
   "source": [
    "test_string = 'hello ylk1234@gmail.com 010-222-3333 world 02-1345-2345$'"
   ]
  },
  {
   "cell_type": "code",
   "execution_count": 23,
   "metadata": {},
   "outputs": [
    {
     "data": {
      "text/plain": [
       "['010-222-3333', '02-1345-2345']"
      ]
     },
     "execution_count": 23,
     "metadata": {},
     "output_type": "execute_result"
    }
   ],
   "source": [
    "# 전화번호 추출\n",
    "pattern = re.compile(r'\\d{3}-\\d{3}-\\d{4}')\n",
    "pattern_extend = re.compile(r'\\d{2,3}-\\d{3,4}-\\d{4}') #{3,4}는 3자리일 수도 있으니 or 개념으로 줌\n",
    "pattern_extend.findall(test_string)"
   ]
  },
  {
   "cell_type": "code",
   "execution_count": 24,
   "metadata": {},
   "outputs": [
    {
     "data": {
      "text/plain": [
       "['ylk1234@gmail.com']"
      ]
     },
     "execution_count": 24,
     "metadata": {},
     "output_type": "execute_result"
    }
   ],
   "source": [
    "# 이메일 추출\n",
    "pattern_email = re.compile(r'[a-zA-Z0-9._%+-]+@[a-zA-Z0-9.-]+\\.[a-zA-Z]{2,}')\n",
    "pattern_email.findall(test_string)\n"
   ]
  },
  {
   "cell_type": "markdown",
   "metadata": {},
   "source": [
    "##### 설명\n",
    "[a-zA-Z0-9._%+-]+:  \n",
    "  \n",
    "이메일 주소의 로컬 파트(이메일의 @ 앞부분)를 나타냅니다.  \n",
    "영문자(a-z, A-Z), 숫자(0-9), 그리고 특수문자(., _, %, +, -)가 포함될 수 있습니다.  \n",
    "+: 하나 이상의 문자가 나올 수 있음을 의미합니다.  \n",
    "@:  \n",
    "\n",
    "이메일 주소에서 @ 기호를 나타냅니다.  \n",
    "[a-zA-Z0-9.-]+:  \n",
    "  \n",
    "이메일 주소의 도메인 파트(이메일의 @ 뒤부분)를 나타냅니다.  \n",
    "영문자, 숫자, 그리고 특수문자(.와 -)가 포함될 수 있습니다.  \n",
    "\\.:  \n",
    "  \n",
    "도메인 이름과 최상위 도메인(TLD) 사이의 **.(마침표)**를 나타냅니다.  \n",
    "[a-zA-Z]{2,}:  \n",
    "  \n",
    "최상위 도메인(TLD)을 나타냅니다.  \n",
    "2글자 이상의 영문자로 구성됩니다(예: com, org, co.kr 등).  "
   ]
  },
  {
   "cell_type": "code",
   "execution_count": null,
   "metadata": {},
   "outputs": [
    {
     "data": {
      "text/plain": [
       "['1234', '010', '222', '3333', '02', '1345', '2345']"
      ]
     },
     "execution_count": 26,
     "metadata": {},
     "output_type": "execute_result"
    }
   ],
   "source": [
    "# 숫자 찾기\n",
    "pattern_number = re.compile(r'\\d+')\n",
    "pattern_number.findall(test_string)"
   ]
  },
  {
   "cell_type": "code",
   "execution_count": 33,
   "metadata": {},
   "outputs": [
    {
     "data": {
      "text/plain": [
       "['hello ylk', '@gmail.com ', '-', '-', ' world ', '-', '-', '$']"
      ]
     },
     "execution_count": 33,
     "metadata": {},
     "output_type": "execute_result"
    }
   ],
   "source": [
    "# 문자만 찾기 ( = 숫자가 아닌 것)\n",
    "pattern_string = re.compile(r'\\D+')\n",
    "pattern_string.findall(test_string)"
   ]
  }
 ],
 "metadata": {
  "kernelspec": {
   "display_name": "django",
   "language": "python",
   "name": "python3"
  },
  "language_info": {
   "codemirror_mode": {
    "name": "ipython",
    "version": 3
   },
   "file_extension": ".py",
   "mimetype": "text/x-python",
   "name": "python",
   "nbconvert_exporter": "python",
   "pygments_lexer": "ipython3",
   "version": "3.11.10"
  }
 },
 "nbformat": 4,
 "nbformat_minor": 2
}
