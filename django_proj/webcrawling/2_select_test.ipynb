{
 "cells": [
  {
   "cell_type": "code",
   "execution_count": 2,
   "metadata": {},
   "outputs": [
    {
     "data": {
      "text/plain": [
       "('c:',\n",
       " '\\\\Users\\\\YJ\\\\Desktop\\\\국비교육\\\\python\\\\web\\\\django_proj\\\\webcrawling\\\\sample.html')"
      ]
     },
     "execution_count": 2,
     "metadata": {},
     "output_type": "execute_result"
    }
   ],
   "source": [
    "import os\n",
    "\n",
    "html_name = 'sample.html'\n",
    "html_path = os.path.abspath(html_name)\n",
    "drive, path = os.path.splitdrive(html_path)\n",
    "drive, path"
   ]
  },
  {
   "cell_type": "code",
   "execution_count": 3,
   "metadata": {},
   "outputs": [
    {
     "data": {
      "text/plain": [
       "'<!DOCTYPE html>\\r\\n<html lang=\"ko\">\\r\\n<head>\\r\\n    <meta charset=\"UTF-8\">\\r\\n    <title>Title</title>\\r\\n</head>\\r\\n<body>\\r\\n    <h1>Hello CSS</h1>\\r\\n    <div id=\"subject\">선택자</div>\\r\\n    <div class=\"contents\">선택자를 어떻게 작성하느냐에 따라\\r\\n        <span>다른 <b>요소가 반환</b></span> 됩니다.</div>\\r\\n    <div>CSS 선택자는 다양한 곳에서 <b>활용</b>됩니다.</div>\\r\\n</body>\\r\\n</html>'"
      ]
     },
     "execution_count": 3,
     "metadata": {},
     "output_type": "execute_result"
    }
   ],
   "source": [
    "from requests_file import FileAdapter\n",
    "import requests\n",
    "\n",
    "s = requests.Session()\n",
    "s.mount('file://', FileAdapter()) #mount는 세션과 파일을 연결함\n",
    "res = s.get('file://' + path.replace('\\\\', '/'))\n",
    "res\n",
    "\n",
    "\n",
    "res.text"
   ]
  },
  {
   "cell_type": "code",
   "execution_count": 4,
   "metadata": {},
   "outputs": [
    {
     "name": "stdout",
     "output_type": "stream",
     "text": [
      "b'<!DOCTYPE html>\\r\\n<html lang=\"ko\">\\r\\n<head>\\r\\n    <meta charset=\"UTF-8\">\\r\\n    <title>Title</title>\\r\\n</head>\\r\\n<body>\\r\\n    <h1>Hello CSS</h1>\\r\\n    <div id=\"subject\">\\xec\\x84\\xa0\\xed\\x83\\x9d\\xec\\x9e\\x90</div>\\r\\n    <div class=\"contents\">\\xec\\x84\\xa0\\xed\\x83\\x9d\\xec\\x9e\\x90\\xeb\\xa5\\xbc \\xec\\x96\\xb4\\xeb\\x96\\xbb\\xea\\xb2\\x8c \\xec\\x9e\\x91\\xec\\x84\\xb1\\xed\\x95\\x98\\xeb\\x8a\\x90\\xeb\\x83\\x90\\xec\\x97\\x90 \\xeb\\x94\\xb0\\xeb\\x9d\\xbc\\r\\n        <span>\\xeb\\x8b\\xa4\\xeb\\xa5\\xb8 <b>\\xec\\x9a\\x94\\xec\\x86\\x8c\\xea\\xb0\\x80 \\xeb\\xb0\\x98\\xed\\x99\\x98</b></span> \\xeb\\x90\\xa9\\xeb\\x8b\\x88\\xeb\\x8b\\xa4.</div>\\r\\n    <div>CSS \\xec\\x84\\xa0\\xed\\x83\\x9d\\xec\\x9e\\x90\\xeb\\x8a\\x94 \\xeb\\x8b\\xa4\\xec\\x96\\x91\\xed\\x95\\x9c \\xea\\xb3\\xb3\\xec\\x97\\x90\\xec\\x84\\x9c <b>\\xed\\x99\\x9c\\xec\\x9a\\xa9</b>\\xeb\\x90\\xa9\\xeb\\x8b\\x88\\xeb\\x8b\\xa4.</div>\\r\\n</body>\\r\\n</html>'\n"
     ]
    }
   ],
   "source": [
    "print(res.content)"
   ]
  },
  {
   "cell_type": "code",
   "execution_count": 7,
   "metadata": {},
   "outputs": [
    {
     "data": {
      "text/plain": [
       "<!DOCTYPE html>\n",
       "\n",
       "<html lang=\"ko\">\n",
       "<head>\n",
       "<meta charset=\"utf-8\"/>\n",
       "<title>Title</title>\n",
       "</head>\n",
       "<body>\n",
       "<h1>Hello CSS</h1>\n",
       "<div id=\"subject\">선택자</div>\n",
       "<div class=\"contents\">선택자를 어떻게 작성하느냐에 따라\n",
       "        <span>다른 <b>요소가 반환</b></span> 됩니다.</div>\n",
       "<div>CSS 선택자는 다양한 곳에서 <b>활용</b>됩니다.</div>\n",
       "</body>\n",
       "</html>"
      ]
     },
     "execution_count": 7,
     "metadata": {},
     "output_type": "execute_result"
    }
   ],
   "source": [
    "from bs4 import BeautifulSoup\n",
    "soup = BeautifulSoup(res.text, 'html.parser')\n",
    "soup"
   ]
  },
  {
   "cell_type": "markdown",
   "metadata": {},
   "source": [
    "##### find로는 태그를 써야함"
   ]
  },
  {
   "cell_type": "code",
   "execution_count": 8,
   "metadata": {},
   "outputs": [
    {
     "data": {
      "text/plain": [
       "<title>Title</title>"
      ]
     },
     "execution_count": 8,
     "metadata": {},
     "output_type": "execute_result"
    }
   ],
   "source": [
    "soup.find('title')"
   ]
  },
  {
   "cell_type": "code",
   "execution_count": 9,
   "metadata": {},
   "outputs": [
    {
     "data": {
      "text/plain": [
       "[<div id=\"subject\">선택자</div>,\n",
       " <div class=\"contents\">선택자를 어떻게 작성하느냐에 따라\n",
       "         <span>다른 <b>요소가 반환</b></span> 됩니다.</div>,\n",
       " <div>CSS 선택자는 다양한 곳에서 <b>활용</b>됩니다.</div>]"
      ]
     },
     "execution_count": 9,
     "metadata": {},
     "output_type": "execute_result"
    }
   ],
   "source": [
    "soup.find_all('div')"
   ]
  },
  {
   "cell_type": "code",
   "execution_count": 22,
   "metadata": {},
   "outputs": [
    {
     "data": {
      "text/plain": [
       "['Hello CSS']"
      ]
     },
     "execution_count": 22,
     "metadata": {},
     "output_type": "execute_result"
    }
   ],
   "source": [
    "soup.find('h1').text\n",
    "soup.find('h1').contents"
   ]
  },
  {
   "cell_type": "markdown",
   "metadata": {},
   "source": [
    "##### select는 CSS 선택자를 사용함"
   ]
  },
  {
   "cell_type": "code",
   "execution_count": 32,
   "metadata": {},
   "outputs": [
    {
     "data": {
      "text/plain": [
       "('선택자',\n",
       " '선택자를 어떻게 작성하느냐에 따라\\r\\n        다른 요소가 반환 됩니다.',\n",
       " 'CSS 선택자는 다양한 곳에서 활용됩니다.')"
      ]
     },
     "execution_count": 32,
     "metadata": {},
     "output_type": "execute_result"
    }
   ],
   "source": [
    "soup.select('div')[0].text, \\\n",
    "soup.select('div')[1].text, \\\n",
    "soup.select('div')[2].text"
   ]
  },
  {
   "cell_type": "code",
   "execution_count": 44,
   "metadata": {},
   "outputs": [
    {
     "data": {
      "text/plain": [
       "['요소가 반환', '활용']"
      ]
     },
     "execution_count": 44,
     "metadata": {},
     "output_type": "execute_result"
    }
   ],
   "source": [
    "[soup.select('b')[0].text, \\\n",
    "soup.select('b')[1].text]"
   ]
  },
  {
   "cell_type": "code",
   "execution_count": 50,
   "metadata": {},
   "outputs": [
    {
     "name": "stdout",
     "output_type": "stream",
     "text": [
      "요소가 반환\n",
      "활용\n",
      "['요소가 반환', '활용']\n"
     ]
    }
   ],
   "source": [
    "#b태그 추출, 모두 출력\n",
    "b_elements = soup.select('b')\n",
    "for i in b_elements:\n",
    "    print(i.text)\n",
    "\n",
    "print([i.text for i in b_elements])    \n"
   ]
  },
  {
   "cell_type": "code",
   "execution_count": 56,
   "metadata": {},
   "outputs": [
    {
     "name": "stdout",
     "output_type": "stream",
     "text": [
      "[<b>요소가 반환</b>, <b>활용</b>]\n",
      "[<b>활용</b>]\n"
     ]
    }
   ],
   "source": [
    "#내포 선택자\n",
    "print(soup.select('div b'))\n",
    "\n",
    "# 자식 선택자\n",
    "print(soup.select('div > b'))\n"
   ]
  },
  {
   "cell_type": "code",
   "execution_count": 57,
   "metadata": {},
   "outputs": [
    {
     "data": {
      "text/plain": [
       "<!DOCTYPE html>\n",
       "\n",
       "<html lang=\"ko\">\n",
       "<head>\n",
       "<meta charset=\"utf-8\"/>\n",
       "<title>Title</title>\n",
       "</head>\n",
       "<body>\n",
       "<h1>Hello CSS</h1>\n",
       "<div id=\"subject\">선택자</div>\n",
       "<div class=\"contents\">선택자를 어떻게 작성하느냐에 따라\n",
       "        <span>다른 <b>요소가 반환</b></span> 됩니다.</div>\n",
       "<div>CSS 선택자는 다양한 곳에서 <b>활용</b>됩니다.</div>\n",
       "</body>\n",
       "</html>"
      ]
     },
     "execution_count": 57,
     "metadata": {},
     "output_type": "execute_result"
    }
   ],
   "source": [
    "soup"
   ]
  },
  {
   "cell_type": "code",
   "execution_count": 64,
   "metadata": {},
   "outputs": [
    {
     "data": {
      "text/plain": [
       "<div id=\"subject\">선택자</div>"
      ]
     },
     "execution_count": 64,
     "metadata": {},
     "output_type": "execute_result"
    }
   ],
   "source": [
    "# <div id=\"subject\">선택자</div>\n",
    "soup.select_one('#subject')\n"
   ]
  },
  {
   "cell_type": "code",
   "execution_count": 65,
   "metadata": {},
   "outputs": [
    {
     "data": {
      "text/plain": [
       "<div class=\"contents\">선택자를 어떻게 작성하느냐에 따라\n",
       "        <span>다른 <b>요소가 반환</b></span> 됩니다.</div>"
      ]
     },
     "execution_count": 65,
     "metadata": {},
     "output_type": "execute_result"
    }
   ],
   "source": [
    "#<div class=\"contents\">선택자를 어떻게 작성하느냐에 따라\n",
    "#        <span>다른 <b>요소가 반환</b></span> 됩니다.</di\n",
    "soup.select_one('.contents')\n"
   ]
  },
  {
   "cell_type": "code",
   "execution_count": 66,
   "metadata": {},
   "outputs": [
    {
     "data": {
      "text/plain": [
       "[<html lang=\"ko\">\n",
       " <head>\n",
       " <meta charset=\"utf-8\"/>\n",
       " <title>Title</title>\n",
       " </head>\n",
       " <body>\n",
       " <h1>Hello CSS</h1>\n",
       " <div id=\"subject\">선택자</div>\n",
       " <div class=\"contents\">선택자를 어떻게 작성하느냐에 따라\n",
       "         <span>다른 <b>요소가 반환</b></span> 됩니다.</div>\n",
       " <div>CSS 선택자는 다양한 곳에서 <b>활용</b>됩니다.</div>\n",
       " </body>\n",
       " </html>]"
      ]
     },
     "execution_count": 66,
     "metadata": {},
     "output_type": "execute_result"
    }
   ],
   "source": [
    "soup.select('html')"
   ]
  },
  {
   "cell_type": "code",
   "execution_count": 68,
   "metadata": {},
   "outputs": [
    {
     "data": {
      "text/plain": [
       "[<head>\n",
       " <meta charset=\"utf-8\"/>\n",
       " <title>Title</title>\n",
       " </head>]"
      ]
     },
     "execution_count": 68,
     "metadata": {},
     "output_type": "execute_result"
    }
   ],
   "source": [
    "soup.select('head')"
   ]
  },
  {
   "cell_type": "code",
   "execution_count": 69,
   "metadata": {},
   "outputs": [
    {
     "data": {
      "text/plain": [
       "[]"
      ]
     },
     "execution_count": 69,
     "metadata": {},
     "output_type": "execute_result"
    }
   ],
   "source": [
    "soup.select('meta charset')"
   ]
  },
  {
   "cell_type": "code",
   "execution_count": 70,
   "metadata": {},
   "outputs": [
    {
     "data": {
      "text/plain": [
       "[<title>Title</title>]"
      ]
     },
     "execution_count": 70,
     "metadata": {},
     "output_type": "execute_result"
    }
   ],
   "source": [
    "soup.select('title')"
   ]
  },
  {
   "cell_type": "code",
   "execution_count": 67,
   "metadata": {},
   "outputs": [
    {
     "data": {
      "text/plain": [
       "[<body>\n",
       " <h1>Hello CSS</h1>\n",
       " <div id=\"subject\">선택자</div>\n",
       " <div class=\"contents\">선택자를 어떻게 작성하느냐에 따라\n",
       "         <span>다른 <b>요소가 반환</b></span> 됩니다.</div>\n",
       " <div>CSS 선택자는 다양한 곳에서 <b>활용</b>됩니다.</div>\n",
       " </body>]"
      ]
     },
     "execution_count": 67,
     "metadata": {},
     "output_type": "execute_result"
    }
   ],
   "source": [
    "soup.select('body')"
   ]
  },
  {
   "cell_type": "code",
   "execution_count": 71,
   "metadata": {},
   "outputs": [
    {
     "data": {
      "text/plain": [
       "[<h1>Hello CSS</h1>]"
      ]
     },
     "execution_count": 71,
     "metadata": {},
     "output_type": "execute_result"
    }
   ],
   "source": [
    "soup.select('h1')"
   ]
  },
  {
   "cell_type": "code",
   "execution_count": 72,
   "metadata": {},
   "outputs": [
    {
     "data": {
      "text/plain": [
       "[<div id=\"subject\">선택자</div>]"
      ]
     },
     "execution_count": 72,
     "metadata": {},
     "output_type": "execute_result"
    }
   ],
   "source": [
    "soup.select('#subject')"
   ]
  },
  {
   "cell_type": "code",
   "execution_count": 73,
   "metadata": {},
   "outputs": [
    {
     "data": {
      "text/plain": [
       "[<div class=\"contents\">선택자를 어떻게 작성하느냐에 따라\n",
       "         <span>다른 <b>요소가 반환</b></span> 됩니다.</div>]"
      ]
     },
     "execution_count": 73,
     "metadata": {},
     "output_type": "execute_result"
    }
   ],
   "source": [
    "soup.select('.contents')"
   ]
  },
  {
   "cell_type": "code",
   "execution_count": 75,
   "metadata": {},
   "outputs": [
    {
     "data": {
      "text/plain": [
       "[<span>다른 <b>요소가 반환</b></span>]"
      ]
     },
     "execution_count": 75,
     "metadata": {},
     "output_type": "execute_result"
    }
   ],
   "source": [
    "soup.select('.contents span')"
   ]
  },
  {
   "cell_type": "code",
   "execution_count": null,
   "metadata": {},
   "outputs": [],
   "source": []
  },
  {
   "cell_type": "code",
   "execution_count": null,
   "metadata": {},
   "outputs": [],
   "source": []
  },
  {
   "cell_type": "code",
   "execution_count": null,
   "metadata": {},
   "outputs": [],
   "source": []
  },
  {
   "cell_type": "code",
   "execution_count": null,
   "metadata": {},
   "outputs": [],
   "source": []
  }
 ],
 "metadata": {
  "kernelspec": {
   "display_name": "django",
   "language": "python",
   "name": "python3"
  },
  "language_info": {
   "codemirror_mode": {
    "name": "ipython",
    "version": 3
   },
   "file_extension": ".py",
   "mimetype": "text/x-python",
   "name": "python",
   "nbconvert_exporter": "python",
   "pygments_lexer": "ipython3",
   "version": "3.11.10"
  }
 },
 "nbformat": 4,
 "nbformat_minor": 2
}
