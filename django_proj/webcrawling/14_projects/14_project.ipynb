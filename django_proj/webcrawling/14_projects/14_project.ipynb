{
 "cells": [
  {
   "cell_type": "markdown",
   "metadata": {},
   "source": [
    "### 라이브러리 호출"
   ]
  },
  {
   "cell_type": "code",
   "execution_count": 41,
   "metadata": {},
   "outputs": [],
   "source": [
    "import requests # url 연결\n",
    "from bs4 import BeautifulSoup  # html 파싱\n",
    "import re # html 파싱 이후 정규식으로 이미지 URL 추출\n",
    "import pandas as pd # 추출된 데이터 데이터프레임 만듦\n",
    "import os # 이미지 파일 경로 지정\n",
    "from PIL import Image  # 이미지 저장 라이브러리 PIL(Python Image Library)\n",
    "from io import BytesIO # 메모리에 있는 바이트 배열을 이진 파일로 다루는 클래스"
   ]
  },
  {
   "cell_type": "markdown",
   "metadata": {},
   "source": [
    "### 요청 보내서 html 받기"
   ]
  },
  {
   "cell_type": "code",
   "execution_count": 2,
   "metadata": {},
   "outputs": [],
   "source": [
    "header = {'User-Agent': 'Mozila/5.0 (Windows NT 6.3; Trident/7.0; rv:11.0) like Gecko'}\n",
    "url = 'https://economist.co.kr/article/list/ecn_SC002001000'\n",
    "res = requests.get(url, headers= header)\n",
    "soup = BeautifulSoup(res.text, 'html.parser')\n"
   ]
  },
  {
   "cell_type": "markdown",
   "metadata": {},
   "source": [
    "### 선택자 결정 후, 각각의 요소를 리스트에 담음\n",
    "(웬만하면 하나의 선택자로 다 추출 후 나누는 방식 해봄)"
   ]
  },
  {
   "cell_type": "code",
   "execution_count": 3,
   "metadata": {},
   "outputs": [],
   "source": [
    "# 선택자\n",
    "# 기사 제목 :  #articleList > div:nth-child(1) > a > div > h1 > span\n",
    "# 기사 날짜 : #articleList > div:nth-child(2) > a > span.media-date > span\n",
    "\n",
    "tmp = []\n",
    "[tmp.append(i.text) for i in soup.select('#articleList a span')]\n",
    "\n",
    "#제목은 첫 항이 1이고, 공차가 4인 등차수열\n",
    "title_list = [i for num, i in enumerate(tmp) if num in range(1,10000,4)] #최대값 1만 하드코딩은 아쉬움\n",
    "\n",
    "#날짜는 첫 항이 3이고, 공차가 4인 등차수열\n",
    "post_date = [i for num, i in enumerate(tmp) if num in range(3,10000,4)] #최대값 1만 하드코딩은 아쉬움\n",
    "\n",
    "del tmp # tmp 삭제해서 메모리 최적화 해봄"
   ]
  },
  {
   "cell_type": "markdown",
   "metadata": {},
   "source": [
    "### 패턴을 정해서, 이미지 URL을 구함\n",
    "(정규식 표현법은 추가적으로 탐구해봐야겠음)"
   ]
  },
  {
   "cell_type": "code",
   "execution_count": 4,
   "metadata": {},
   "outputs": [],
   "source": [
    "pattern = re.compile(r'data-src=\"([^\"]+)\"')\n",
    "\n",
    "# 4의 배수가 URL을 담고 있음\n",
    "image_url = [pattern.findall(str(i))[0] for num, i in enumerate(soup.select('#articleList a span')) if num % 4 == 0]"
   ]
  },
  {
   "cell_type": "markdown",
   "metadata": {},
   "source": [
    "### 모든 리스트 합치기\n",
    "(zip을 써서, 2차원 리스트로 구현)"
   ]
  },
  {
   "cell_type": "code",
   "execution_count": 39,
   "metadata": {},
   "outputs": [
    {
     "data": {
      "text/plain": [
       "[['종부세 내는 사람 4.8만명 늘어난 이유 살펴봤더니…’수·다·고’가 대부분',\n",
       "  '2024-11-30',\n",
       "  'https://image.economist.co.kr/data/ecn/image/2024/11/30/ecn20241130000003.160x122.0.jpg'],\n",
       " ['얼어붙은 부동산 시장…기준금리 인하에도 한동안 ‘겨울바람’ 전망',\n",
       "  '2024-11-29',\n",
       "  'https://image.economist.co.kr/data/ecn/image/2024/11/29/ecn20241129000060.160x122.0.jpg']]"
      ]
     },
     "execution_count": 39,
     "metadata": {},
     "output_type": "execute_result"
    }
   ],
   "source": [
    "final_list = []\n",
    "for x,y,z in zip(title_list, post_date, image_url):\n",
    "    final_list.append([x,y,z])\n",
    "\n",
    "final_list[:2]\n"
   ]
  },
  {
   "cell_type": "markdown",
   "metadata": {},
   "source": [
    "### 이미지 저장하기"
   ]
  },
  {
   "cell_type": "code",
   "execution_count": 40,
   "metadata": {},
   "outputs": [
    {
     "name": "stdout",
     "output_type": "stream",
     "text": [
      "7번에 png 발생 !\n"
     ]
    }
   ],
   "source": [
    "# 이미지 경로 생성\n",
    "image_dir = 'images'\n",
    "if not os.path.exists(image_dir):\n",
    "    os.makedirs(image_dir)\n",
    "\n",
    "# 현재 경로에 이미지 경로 추가\n",
    "image_path = os.path.join(os.getcwd(), image_dir)\n",
    "\n",
    "\n",
    "# 이미지 url에 요청 보내서 바이트 데이터 가져오기\n",
    "for num, j in enumerate(image_url): #이미지 이름을 순번으로 저장하기\n",
    "    tmp_res = requests.get(j, headers=header)\n",
    "    image = Image.open(BytesIO(tmp_res.content)) # Image 클래스로 바이트 데이터의 이미지 열기\n",
    "    try :    \n",
    "        image.save(os.path.join(image_path, str(num) + \".jpg\")) #PIL의 File 타입에 대해서 save 함수 쓰기 # title list의 앞 3글자만 따서 저장(왜냐면 특수문자 있을 수 있어서)\n",
    "    except:\n",
    "        image.save(os.path.join(image_path, str(num) + \".png\")) # 이미지 모드에 RGBA가 있어서 JPG 변환불가 이는 PNG로 처리\n",
    "        print(f'{num}번에 png 발생 !')\n",
    "\n",
    "\n",
    "\n",
    "\n",
    "\n"
   ]
  },
  {
   "cell_type": "markdown",
   "metadata": {},
   "source": [
    "### pandas로 데이터 프레임 만들기"
   ]
  },
  {
   "cell_type": "code",
   "execution_count": 57,
   "metadata": {},
   "outputs": [
    {
     "data": {
      "text/html": [
       "<div>\n",
       "<style scoped>\n",
       "    .dataframe tbody tr th:only-of-type {\n",
       "        vertical-align: middle;\n",
       "    }\n",
       "\n",
       "    .dataframe tbody tr th {\n",
       "        vertical-align: top;\n",
       "    }\n",
       "\n",
       "    .dataframe thead th {\n",
       "        text-align: right;\n",
       "    }\n",
       "</style>\n",
       "<table border=\"1\" class=\"dataframe\">\n",
       "  <thead>\n",
       "    <tr style=\"text-align: right;\">\n",
       "      <th></th>\n",
       "      <th>title</th>\n",
       "      <th>post_date</th>\n",
       "      <th>image_url</th>\n",
       "    </tr>\n",
       "  </thead>\n",
       "  <tbody>\n",
       "    <tr>\n",
       "      <th>0</th>\n",
       "      <td>종부세 내는 사람 4.8만명 늘어난 이유 살펴봤더니…’수·다·고’가 대부분</td>\n",
       "      <td>2024-11-30</td>\n",
       "      <td>https://image.economist.co.kr/data/ecn/image/2...</td>\n",
       "    </tr>\n",
       "    <tr>\n",
       "      <th>1</th>\n",
       "      <td>얼어붙은 부동산 시장…기준금리 인하에도 한동안 ‘겨울바람’ 전망</td>\n",
       "      <td>2024-11-29</td>\n",
       "      <td>https://image.economist.co.kr/data/ecn/image/2...</td>\n",
       "    </tr>\n",
       "    <tr>\n",
       "      <th>2</th>\n",
       "      <td>이도-한림읍, 청정지역 제주시 한림읍 해양폐기물 처리 ‘맞손’</td>\n",
       "      <td>2024-11-29</td>\n",
       "      <td>https://image.economist.co.kr/data/ecn/image/2...</td>\n",
       "    </tr>\n",
       "    <tr>\n",
       "      <th>3</th>\n",
       "      <td>'서울원' 흥행·재무구조 개선에 실적 호조 기록한 HDC현산</td>\n",
       "      <td>2024-11-29</td>\n",
       "      <td>https://image.economist.co.kr/data/ecn/image/2...</td>\n",
       "    </tr>\n",
       "    <tr>\n",
       "      <th>4</th>\n",
       "      <td>현대건설 ‘힐스테이트 등촌역’ 견본주택 29일 개관</td>\n",
       "      <td>2024-11-29</td>\n",
       "      <td>https://image.economist.co.kr/data/ecn/image/2...</td>\n",
       "    </tr>\n",
       "    <tr>\n",
       "      <th>5</th>\n",
       "      <td>삼쩜삼 “2019년 종부세 과다 납부분 환급 신청 기한 얼마 안 남았어요”</td>\n",
       "      <td>2024-11-28</td>\n",
       "      <td>https://image.economist.co.kr/data/ecn/image/2...</td>\n",
       "    </tr>\n",
       "    <tr>\n",
       "      <th>6</th>\n",
       "      <td>'용산국제업무지구' 청사진 공개...초고층 빌딩·글로벌 기업 유치</td>\n",
       "      <td>2024-11-28</td>\n",
       "      <td>https://image.economist.co.kr/data/ecn/image/2...</td>\n",
       "    </tr>\n",
       "    <tr>\n",
       "      <th>7</th>\n",
       "      <td>정병윤 리츠협회장 “국내 리츠 경쟁력 높이기 위한 과제 해결 필요”</td>\n",
       "      <td>2024-11-28</td>\n",
       "      <td>https://image.economist.co.kr/data/ecn/image/2...</td>\n",
       "    </tr>\n",
       "    <tr>\n",
       "      <th>8</th>\n",
       "      <td>DL이앤씨, ‘아크로 리츠카운티‘ 분양 예정</td>\n",
       "      <td>2024-11-28</td>\n",
       "      <td>https://image.economist.co.kr/data/ecn/image/2...</td>\n",
       "    </tr>\n",
       "    <tr>\n",
       "      <th>9</th>\n",
       "      <td>‘이재명 아파트’도 재건축된다…1기 선도지구 발표</td>\n",
       "      <td>2024-11-27</td>\n",
       "      <td>https://image.economist.co.kr/data/ecn/image/2...</td>\n",
       "    </tr>\n",
       "  </tbody>\n",
       "</table>\n",
       "</div>"
      ],
      "text/plain": [
       "                                       title   post_date  \\\n",
       "0  종부세 내는 사람 4.8만명 늘어난 이유 살펴봤더니…’수·다·고’가 대부분  2024-11-30   \n",
       "1        얼어붙은 부동산 시장…기준금리 인하에도 한동안 ‘겨울바람’ 전망  2024-11-29   \n",
       "2         이도-한림읍, 청정지역 제주시 한림읍 해양폐기물 처리 ‘맞손’  2024-11-29   \n",
       "3          '서울원' 흥행·재무구조 개선에 실적 호조 기록한 HDC현산  2024-11-29   \n",
       "4               현대건설 ‘힐스테이트 등촌역’ 견본주택 29일 개관  2024-11-29   \n",
       "5  삼쩜삼 “2019년 종부세 과다 납부분 환급 신청 기한 얼마 안 남았어요”  2024-11-28   \n",
       "6       '용산국제업무지구' 청사진 공개...초고층 빌딩·글로벌 기업 유치  2024-11-28   \n",
       "7      정병윤 리츠협회장 “국내 리츠 경쟁력 높이기 위한 과제 해결 필요”  2024-11-28   \n",
       "8                   DL이앤씨, ‘아크로 리츠카운티‘ 분양 예정  2024-11-28   \n",
       "9                ‘이재명 아파트’도 재건축된다…1기 선도지구 발표  2024-11-27   \n",
       "\n",
       "                                           image_url  \n",
       "0  https://image.economist.co.kr/data/ecn/image/2...  \n",
       "1  https://image.economist.co.kr/data/ecn/image/2...  \n",
       "2  https://image.economist.co.kr/data/ecn/image/2...  \n",
       "3  https://image.economist.co.kr/data/ecn/image/2...  \n",
       "4  https://image.economist.co.kr/data/ecn/image/2...  \n",
       "5  https://image.economist.co.kr/data/ecn/image/2...  \n",
       "6  https://image.economist.co.kr/data/ecn/image/2...  \n",
       "7  https://image.economist.co.kr/data/ecn/image/2...  \n",
       "8  https://image.economist.co.kr/data/ecn/image/2...  \n",
       "9  https://image.economist.co.kr/data/ecn/image/2...  "
      ]
     },
     "execution_count": 57,
     "metadata": {},
     "output_type": "execute_result"
    }
   ],
   "source": [
    "df = pd.DataFrame(final_list, columns= ['title', 'post_date', 'image_url'])\n",
    "\n",
    "df.to_csv('14_project.csv', index = False, encoding='cp949')\n",
    "\n",
    "pd.read_csv('14_project.csv', encoding='cp949')"
   ]
  }
 ],
 "metadata": {
  "kernelspec": {
   "display_name": "django",
   "language": "python",
   "name": "python3"
  },
  "language_info": {
   "codemirror_mode": {
    "name": "ipython",
    "version": 3
   },
   "file_extension": ".py",
   "mimetype": "text/x-python",
   "name": "python",
   "nbconvert_exporter": "python",
   "pygments_lexer": "ipython3",
   "version": "3.11.10"
  }
 },
 "nbformat": 4,
 "nbformat_minor": 2
}
